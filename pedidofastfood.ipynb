{
  "nbformat": 4,
  "nbformat_minor": 0,
  "metadata": {
    "colab": {
      "provenance": [],
      "authorship_tag": "ABX9TyMVU3y29lxOKgiWsxFEAptX",
      "include_colab_link": true
    },
    "kernelspec": {
      "name": "python3",
      "display_name": "Python 3"
    },
    "language_info": {
      "name": "python"
    }
  },
  "cells": [
    {
      "cell_type": "markdown",
      "metadata": {
        "id": "view-in-github",
        "colab_type": "text"
      },
      "source": [
        "<a href=\"https://colab.research.google.com/gist/rgrsantana/e173d4112808fb618488d6c42e95d336/pedidofastfood.ipynb\" target=\"_parent\"><img src=\"https://colab.research.google.com/assets/colab-badge.svg\" alt=\"Open In Colab\"/></a>"
      ]
    },
    {
      "cell_type": "code",
      "execution_count": 3,
      "metadata": {
        "colab": {
          "base_uri": "https://localhost:8080/"
        },
        "id": "BHu_l3xoDe0J",
        "outputId": "5f06f28f-c444-4740-e010-545ff684e1ca"
      },
      "outputs": [
        {
          "output_type": "stream",
          "name": "stdout",
          "text": [
            "Qual lanche você quer? \n",
            "Segue nossas opções: \n",
            "1 - X-salada \n",
            "2 - Egg-x-salada \n",
            "3 - X-tudo \n",
            "Escolha com seus respectivos números1\n",
            "X-salada: R$3,00\n"
          ]
        }
      ],
      "source": [
        "pedido = str(input(\"Qual lanche você quer? \\nSegue nossas opções: \\n1 - X-salada \\n2 - Egg-x-salada \\n3 - X-tudo \\nEscolha com seus respectivos números\"))\n",
        "\n",
        "if(pedido == \"1\"):\n",
        "  print(\"X-salada: R$3,00\")\n",
        "elif(pedido == \"2\"):\n",
        "  print(\"Egg-x-salada: R$4,00\")\n",
        "elif(pedido == \"3\"):\n",
        "  print(\"X-tudo: 5,00\")\n",
        "else:\n",
        "  print(\"No momento não temos\")"
      ]
    }
  ]
}